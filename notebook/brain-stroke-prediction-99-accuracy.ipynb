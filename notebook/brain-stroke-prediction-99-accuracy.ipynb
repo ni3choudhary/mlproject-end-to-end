{
 "cells": [
  {
   "cell_type": "markdown",
   "id": "5dcee77b",
   "metadata": {
    "papermill": {
     "duration": 0.012536,
     "end_time": "2022-08-17T10:00:36.604618",
     "exception": false,
     "start_time": "2022-08-17T10:00:36.592082",
     "status": "completed"
    },
    "tags": []
   },
   "source": [
    "<h1 style=\"color:Peru;\"> Brain Stroke Prediction </h1>"
   ]
  },
  {
   "cell_type": "markdown",
   "id": "afc7ee89",
   "metadata": {
    "papermill": {
     "duration": 0.010267,
     "end_time": "2022-08-17T10:00:36.625224",
     "exception": false,
     "start_time": "2022-08-17T10:00:36.614957",
     "status": "completed"
    },
    "tags": []
   },
   "source": [
    "<h3 style=\"color:DarkOliveGreen;\"> Problem Statement </h3>"
   ]
  },
  {
   "cell_type": "markdown",
   "id": "4d830be3",
   "metadata": {
    "papermill": {
     "duration": 0.009767,
     "end_time": "2022-08-17T10:00:36.645094",
     "exception": false,
     "start_time": "2022-08-17T10:00:36.635327",
     "status": "completed"
    },
    "tags": []
   },
   "source": [
    "**Our Aim is to predict whether a patient is likely to get stroke based on the input parameters like gender, age, various diseases, and smoking status.**"
   ]
  },
  {
   "cell_type": "markdown",
   "id": "f29eccf7",
   "metadata": {
    "papermill": {
     "duration": 0.009727,
     "end_time": "2022-08-17T10:00:36.664984",
     "exception": false,
     "start_time": "2022-08-17T10:00:36.655257",
     "status": "completed"
    },
    "tags": []
   },
   "source": [
    "<h3 style=\"color:DarkOliveGreen;\"> Import Required Libraries </h3>"
   ]
  },
  {
   "cell_type": "code",
   "execution_count": 1,
   "id": "2aef9045",
   "metadata": {
    "execution": {
     "iopub.execute_input": "2022-08-17T10:00:36.689108Z",
     "iopub.status.busy": "2022-08-17T10:00:36.688317Z",
     "iopub.status.idle": "2022-08-17T10:00:38.668897Z",
     "shell.execute_reply": "2022-08-17T10:00:38.667969Z"
    },
    "papermill": {
     "duration": 1.995656,
     "end_time": "2022-08-17T10:00:38.671683",
     "exception": false,
     "start_time": "2022-08-17T10:00:36.676027",
     "status": "completed"
    },
    "tags": []
   },
   "outputs": [],
   "source": [
    "import pandas as pd\n",
    "import numpy as np\n",
    "import matplotlib.pyplot as plt\n",
    "import seaborn as sns\n",
    "\n",
    "from sklearn.model_selection import train_test_split\n",
    "from sklearn.pipeline import Pipeline\n",
    "from sklearn.impute import SimpleImputer\n",
    "from sklearn.preprocessing import OneHotEncoder, StandardScaler\n",
    "from sklearn.compose import ColumnTransformer\n",
    "\n",
    "from imblearn.over_sampling import RandomOverSampler\n",
    "\n",
    "from sklearn.neighbors import KNeighborsClassifier\n",
    "from sklearn.svm import SVC\n",
    "from sklearn.tree import DecisionTreeClassifier\n",
    "from sklearn.ensemble import RandomForestClassifier\n",
    "from catboost import CatBoostClassifier\n",
    "from xgboost import XGBClassifier\n",
    "\n",
    "from sklearn.metrics import accuracy_score, roc_auc_score, plot_confusion_matrix\n",
    "\n",
    "import warnings\n",
    "warnings.filterwarnings('ignore')"
   ]
  },
  {
   "cell_type": "markdown",
   "id": "bd9919bc",
   "metadata": {
    "papermill": {
     "duration": 0.010339,
     "end_time": "2022-08-17T10:00:38.692233",
     "exception": false,
     "start_time": "2022-08-17T10:00:38.681894",
     "status": "completed"
    },
    "tags": []
   },
   "source": [
    "<h3 style=\"color:DarkOliveGreen;\"> Load Dataset </h3>"
   ]
  },
  {
   "cell_type": "code",
   "execution_count": 2,
   "id": "b002a3a0",
   "metadata": {
    "execution": {
     "iopub.execute_input": "2022-08-17T10:00:38.714346Z",
     "iopub.status.busy": "2022-08-17T10:00:38.713847Z",
     "iopub.status.idle": "2022-08-17T10:00:38.751771Z",
     "shell.execute_reply": "2022-08-17T10:00:38.750738Z"
    },
    "papermill": {
     "duration": 0.052465,
     "end_time": "2022-08-17T10:00:38.754802",
     "exception": false,
     "start_time": "2022-08-17T10:00:38.702337",
     "status": "completed"
    },
    "tags": []
   },
   "outputs": [],
   "source": [
    "df = pd.read_csv('../input/stroke-prediction-dataset/healthcare-dataset-stroke-data.csv')"
   ]
  },
  {
   "cell_type": "code",
   "execution_count": 3,
   "id": "20aaa186",
   "metadata": {
    "execution": {
     "iopub.execute_input": "2022-08-17T10:00:38.778159Z",
     "iopub.status.busy": "2022-08-17T10:00:38.777040Z",
     "iopub.status.idle": "2022-08-17T10:00:38.803436Z",
     "shell.execute_reply": "2022-08-17T10:00:38.802147Z"
    },
    "papermill": {
     "duration": 0.041,
     "end_time": "2022-08-17T10:00:38.806210",
     "exception": false,
     "start_time": "2022-08-17T10:00:38.765210",
     "status": "completed"
    },
    "tags": []
   },
   "outputs": [
    {
     "data": {
      "text/html": [
       "<div>\n",
       "<style scoped>\n",
       "    .dataframe tbody tr th:only-of-type {\n",
       "        vertical-align: middle;\n",
       "    }\n",
       "\n",
       "    .dataframe tbody tr th {\n",
       "        vertical-align: top;\n",
       "    }\n",
       "\n",
       "    .dataframe thead th {\n",
       "        text-align: right;\n",
       "    }\n",
       "</style>\n",
       "<table border=\"1\" class=\"dataframe\">\n",
       "  <thead>\n",
       "    <tr style=\"text-align: right;\">\n",
       "      <th></th>\n",
       "      <th>id</th>\n",
       "      <th>gender</th>\n",
       "      <th>age</th>\n",
       "      <th>hypertension</th>\n",
       "      <th>heart_disease</th>\n",
       "      <th>ever_married</th>\n",
       "      <th>work_type</th>\n",
       "      <th>Residence_type</th>\n",
       "      <th>avg_glucose_level</th>\n",
       "      <th>bmi</th>\n",
       "      <th>smoking_status</th>\n",
       "      <th>stroke</th>\n",
       "    </tr>\n",
       "  </thead>\n",
       "  <tbody>\n",
       "    <tr>\n",
       "      <th>0</th>\n",
       "      <td>9046</td>\n",
       "      <td>Male</td>\n",
       "      <td>67.0</td>\n",
       "      <td>0</td>\n",
       "      <td>1</td>\n",
       "      <td>Yes</td>\n",
       "      <td>Private</td>\n",
       "      <td>Urban</td>\n",
       "      <td>228.69</td>\n",
       "      <td>36.6</td>\n",
       "      <td>formerly smoked</td>\n",
       "      <td>1</td>\n",
       "    </tr>\n",
       "    <tr>\n",
       "      <th>1</th>\n",
       "      <td>51676</td>\n",
       "      <td>Female</td>\n",
       "      <td>61.0</td>\n",
       "      <td>0</td>\n",
       "      <td>0</td>\n",
       "      <td>Yes</td>\n",
       "      <td>Self-employed</td>\n",
       "      <td>Rural</td>\n",
       "      <td>202.21</td>\n",
       "      <td>NaN</td>\n",
       "      <td>never smoked</td>\n",
       "      <td>1</td>\n",
       "    </tr>\n",
       "    <tr>\n",
       "      <th>2</th>\n",
       "      <td>31112</td>\n",
       "      <td>Male</td>\n",
       "      <td>80.0</td>\n",
       "      <td>0</td>\n",
       "      <td>1</td>\n",
       "      <td>Yes</td>\n",
       "      <td>Private</td>\n",
       "      <td>Rural</td>\n",
       "      <td>105.92</td>\n",
       "      <td>32.5</td>\n",
       "      <td>never smoked</td>\n",
       "      <td>1</td>\n",
       "    </tr>\n",
       "    <tr>\n",
       "      <th>3</th>\n",
       "      <td>60182</td>\n",
       "      <td>Female</td>\n",
       "      <td>49.0</td>\n",
       "      <td>0</td>\n",
       "      <td>0</td>\n",
       "      <td>Yes</td>\n",
       "      <td>Private</td>\n",
       "      <td>Urban</td>\n",
       "      <td>171.23</td>\n",
       "      <td>34.4</td>\n",
       "      <td>smokes</td>\n",
       "      <td>1</td>\n",
       "    </tr>\n",
       "    <tr>\n",
       "      <th>4</th>\n",
       "      <td>1665</td>\n",
       "      <td>Female</td>\n",
       "      <td>79.0</td>\n",
       "      <td>1</td>\n",
       "      <td>0</td>\n",
       "      <td>Yes</td>\n",
       "      <td>Self-employed</td>\n",
       "      <td>Rural</td>\n",
       "      <td>174.12</td>\n",
       "      <td>24.0</td>\n",
       "      <td>never smoked</td>\n",
       "      <td>1</td>\n",
       "    </tr>\n",
       "  </tbody>\n",
       "</table>\n",
       "</div>"
      ],
      "text/plain": [
       "      id  gender   age  hypertension  heart_disease ever_married  \\\n",
       "0   9046    Male  67.0             0              1          Yes   \n",
       "1  51676  Female  61.0             0              0          Yes   \n",
       "2  31112    Male  80.0             0              1          Yes   \n",
       "3  60182  Female  49.0             0              0          Yes   \n",
       "4   1665  Female  79.0             1              0          Yes   \n",
       "\n",
       "       work_type Residence_type  avg_glucose_level   bmi   smoking_status  \\\n",
       "0        Private          Urban             228.69  36.6  formerly smoked   \n",
       "1  Self-employed          Rural             202.21   NaN     never smoked   \n",
       "2        Private          Rural             105.92  32.5     never smoked   \n",
       "3        Private          Urban             171.23  34.4           smokes   \n",
       "4  Self-employed          Rural             174.12  24.0     never smoked   \n",
       "\n",
       "   stroke  \n",
       "0       1  \n",
       "1       1  \n",
       "2       1  \n",
       "3       1  \n",
       "4       1  "
      ]
     },
     "execution_count": 3,
     "metadata": {},
     "output_type": "execute_result"
    }
   ],
   "source": [
    "# lets check the first five rows of dataset\n",
    "df.head()"
   ]
  },
  {
   "cell_type": "code",
   "execution_count": 4,
   "id": "eaeb5d13",
   "metadata": {
    "execution": {
     "iopub.execute_input": "2022-08-17T10:00:38.829412Z",
     "iopub.status.busy": "2022-08-17T10:00:38.829027Z",
     "iopub.status.idle": "2022-08-17T10:00:38.836179Z",
     "shell.execute_reply": "2022-08-17T10:00:38.835182Z"
    },
    "papermill": {
     "duration": 0.02094,
     "end_time": "2022-08-17T10:00:38.838316",
     "exception": false,
     "start_time": "2022-08-17T10:00:38.817376",
     "status": "completed"
    },
    "tags": []
   },
   "outputs": [
    {
     "data": {
      "text/plain": [
       "(5110, 12)"
      ]
     },
     "execution_count": 4,
     "metadata": {},
     "output_type": "execute_result"
    }
   ],
   "source": [
    "# lets check the shape of dataset\n",
    "df.shape"
   ]
  },
  {
   "cell_type": "code",
   "execution_count": 5,
   "id": "60b0527c",
   "metadata": {
    "execution": {
     "iopub.execute_input": "2022-08-17T10:00:38.861727Z",
     "iopub.status.busy": "2022-08-17T10:00:38.860903Z",
     "iopub.status.idle": "2022-08-17T10:00:38.869418Z",
     "shell.execute_reply": "2022-08-17T10:00:38.868512Z"
    },
    "papermill": {
     "duration": 0.022768,
     "end_time": "2022-08-17T10:00:38.871715",
     "exception": false,
     "start_time": "2022-08-17T10:00:38.848947",
     "status": "completed"
    },
    "tags": []
   },
   "outputs": [
    {
     "data": {
      "text/plain": [
       "id                     int64\n",
       "gender                object\n",
       "age                  float64\n",
       "hypertension           int64\n",
       "heart_disease          int64\n",
       "ever_married          object\n",
       "work_type             object\n",
       "Residence_type        object\n",
       "avg_glucose_level    float64\n",
       "bmi                  float64\n",
       "smoking_status        object\n",
       "stroke                 int64\n",
       "dtype: object"
      ]
     },
     "execution_count": 5,
     "metadata": {},
     "output_type": "execute_result"
    }
   ],
   "source": [
    "# Let's get an overview of features datatype\n",
    "df.dtypes"
   ]
  },
  {
   "cell_type": "markdown",
   "id": "dc0d60e8",
   "metadata": {
    "papermill": {
     "duration": 0.01037,
     "end_time": "2022-08-17T10:00:38.893159",
     "exception": false,
     "start_time": "2022-08-17T10:00:38.882789",
     "status": "completed"
    },
    "tags": []
   },
   "source": [
    "**We can see that Hypertension, heart disease and stroke have an integer data type but we know that they are categorical variables. So lets convert them to object datatype.**"
   ]
  },
  {
   "cell_type": "code",
   "execution_count": 6,
   "id": "3f66857d",
   "metadata": {
    "execution": {
     "iopub.execute_input": "2022-08-17T10:00:38.916479Z",
     "iopub.status.busy": "2022-08-17T10:00:38.916058Z",
     "iopub.status.idle": "2022-08-17T10:00:38.942419Z",
     "shell.execute_reply": "2022-08-17T10:00:38.941401Z"
    },
    "papermill": {
     "duration": 0.040931,
     "end_time": "2022-08-17T10:00:38.945049",
     "exception": false,
     "start_time": "2022-08-17T10:00:38.904118",
     "status": "completed"
    },
    "tags": []
   },
   "outputs": [],
   "source": [
    "columns_to_convert = ['hypertension', 'heart_disease', 'stroke']\n",
    "df[columns_to_convert] = df[columns_to_convert].astype(str)"
   ]
  },
  {
   "cell_type": "markdown",
   "id": "c38b63be",
   "metadata": {
    "papermill": {
     "duration": 0.010354,
     "end_time": "2022-08-17T10:00:38.966525",
     "exception": false,
     "start_time": "2022-08-17T10:00:38.956171",
     "status": "completed"
    },
    "tags": []
   },
   "source": [
    "<h3 style=\"color:DarkOliveGreen;\"> Data Description </h3>"
   ]
  },
  {
   "cell_type": "markdown",
   "id": "3a0c378c",
   "metadata": {
    "papermill": {
     "duration": 0.010243,
     "end_time": "2022-08-17T10:00:38.987357",
     "exception": false,
     "start_time": "2022-08-17T10:00:38.977114",
     "status": "completed"
    },
    "tags": []
   },
   "source": [
    "1. **id:** unique identifier\n",
    "1. **gender:** \"Male\", \"Female\" or \"Other\"\n",
    "1. **age:** age of the patient\n",
    "1. **hypertension:** 0 if the patient doesn't have hypertension, 1 if the patient has hypertension\n",
    "1. **heart_disease:** 0 if the patient doesn't have any heart diseases, 1 if the patient has a heart disease\n",
    "1. **ever_married:** \"No\" or \"Yes\"\n",
    "1. **work_type:** \"children\", \"Govt_jov\", \"Never_worked\", \"Private\" or \"Self-employed\"\n",
    "1. **Residence_type:** \"Rural\" or \"Urban\"\n",
    "1. **avg_glucose_level:** average glucose level in blood\n",
    "1. **bmi:** body mass index\n",
    "1. **smoking_status:** \"formerly smoked\", \"never smoked\", \"smokes\" or \"Unknown\"*\n",
    "1. **stroke:** 1 if the patient had a stroke or 0 if not *Note: \"Unknown\" in smoking_status means that the information is unavailable for this patient"
   ]
  },
  {
   "cell_type": "code",
   "execution_count": 7,
   "id": "d37a23dd",
   "metadata": {
    "execution": {
     "iopub.execute_input": "2022-08-17T10:00:39.011229Z",
     "iopub.status.busy": "2022-08-17T10:00:39.010427Z",
     "iopub.status.idle": "2022-08-17T10:00:39.108197Z",
     "shell.execute_reply": "2022-08-17T10:00:39.106987Z"
    },
    "papermill": {
     "duration": 0.112959,
     "end_time": "2022-08-17T10:00:39.110875",
     "exception": false,
     "start_time": "2022-08-17T10:00:38.997916",
     "status": "completed"
    },
    "tags": []
   },
   "outputs": [
    {
     "data": {
      "text/html": [
       "<style type=\"text/css\">\n",
       "#T_78800_row0_col0 {\n",
       "  background-color: #330597;\n",
       "  color: #f1f1f1;\n",
       "}\n",
       "#T_78800_row0_col1, #T_78800_row0_col2, #T_78800_row0_col3, #T_78800_row7_col0 {\n",
       "  background-color: #f0f921;\n",
       "  color: #000000;\n",
       "}\n",
       "#T_78800_row1_col0 {\n",
       "  background-color: #cc4778;\n",
       "  color: #f1f1f1;\n",
       "}\n",
       "#T_78800_row1_col1, #T_78800_row5_col1, #T_78800_row5_col2 {\n",
       "  background-color: #130789;\n",
       "  color: #f1f1f1;\n",
       "}\n",
       "#T_78800_row1_col2, #T_78800_row6_col1, #T_78800_row6_col2 {\n",
       "  background-color: #16078a;\n",
       "  color: #f1f1f1;\n",
       "}\n",
       "#T_78800_row1_col3, #T_78800_row2_col1, #T_78800_row4_col1, #T_78800_row4_col2, #T_78800_row5_col3, #T_78800_row6_col3 {\n",
       "  background-color: #100788;\n",
       "  color: #f1f1f1;\n",
       "}\n",
       "#T_78800_row2_col0 {\n",
       "  background-color: #8d0ba5;\n",
       "  color: #f1f1f1;\n",
       "}\n",
       "#T_78800_row2_col2, #T_78800_row2_col3, #T_78800_row3_col0, #T_78800_row3_col1, #T_78800_row3_col2, #T_78800_row3_col3, #T_78800_row4_col3 {\n",
       "  background-color: #0d0887;\n",
       "  color: #f1f1f1;\n",
       "}\n",
       "#T_78800_row4_col0 {\n",
       "  background-color: #7b02a8;\n",
       "  color: #f1f1f1;\n",
       "}\n",
       "#T_78800_row5_col0 {\n",
       "  background-color: #cc4977;\n",
       "  color: #f1f1f1;\n",
       "}\n",
       "#T_78800_row6_col0 {\n",
       "  background-color: #f89441;\n",
       "  color: #000000;\n",
       "}\n",
       "#T_78800_row7_col1, #T_78800_row7_col3 {\n",
       "  background-color: #19068c;\n",
       "  color: #f1f1f1;\n",
       "}\n",
       "#T_78800_row7_col2 {\n",
       "  background-color: #280592;\n",
       "  color: #f1f1f1;\n",
       "}\n",
       "</style>\n",
       "<table id=\"T_78800_\">\n",
       "  <thead>\n",
       "    <tr>\n",
       "      <th class=\"blank level0\" >&nbsp;</th>\n",
       "      <th class=\"col_heading level0 col0\" >id</th>\n",
       "      <th class=\"col_heading level0 col1\" >age</th>\n",
       "      <th class=\"col_heading level0 col2\" >avg_glucose_level</th>\n",
       "      <th class=\"col_heading level0 col3\" >bmi</th>\n",
       "    </tr>\n",
       "  </thead>\n",
       "  <tbody>\n",
       "    <tr>\n",
       "      <th id=\"T_78800_level0_row0\" class=\"row_heading level0 row0\" >count</th>\n",
       "      <td id=\"T_78800_row0_col0\" class=\"data row0 col0\" >5110.000000</td>\n",
       "      <td id=\"T_78800_row0_col1\" class=\"data row0 col1\" >5110.000000</td>\n",
       "      <td id=\"T_78800_row0_col2\" class=\"data row0 col2\" >5110.000000</td>\n",
       "      <td id=\"T_78800_row0_col3\" class=\"data row0 col3\" >4909.000000</td>\n",
       "    </tr>\n",
       "    <tr>\n",
       "      <th id=\"T_78800_level0_row1\" class=\"row_heading level0 row1\" >mean</th>\n",
       "      <td id=\"T_78800_row1_col0\" class=\"data row1 col0\" >36517.829354</td>\n",
       "      <td id=\"T_78800_row1_col1\" class=\"data row1 col1\" >43.226614</td>\n",
       "      <td id=\"T_78800_row1_col2\" class=\"data row1 col2\" >106.147677</td>\n",
       "      <td id=\"T_78800_row1_col3\" class=\"data row1 col3\" >28.893237</td>\n",
       "    </tr>\n",
       "    <tr>\n",
       "      <th id=\"T_78800_level0_row2\" class=\"row_heading level0 row2\" >std</th>\n",
       "      <td id=\"T_78800_row2_col0\" class=\"data row2 col0\" >21161.721625</td>\n",
       "      <td id=\"T_78800_row2_col1\" class=\"data row2 col1\" >22.612647</td>\n",
       "      <td id=\"T_78800_row2_col2\" class=\"data row2 col2\" >45.283560</td>\n",
       "      <td id=\"T_78800_row2_col3\" class=\"data row2 col3\" >7.854067</td>\n",
       "    </tr>\n",
       "    <tr>\n",
       "      <th id=\"T_78800_level0_row3\" class=\"row_heading level0 row3\" >min</th>\n",
       "      <td id=\"T_78800_row3_col0\" class=\"data row3 col0\" >67.000000</td>\n",
       "      <td id=\"T_78800_row3_col1\" class=\"data row3 col1\" >0.080000</td>\n",
       "      <td id=\"T_78800_row3_col2\" class=\"data row3 col2\" >55.120000</td>\n",
       "      <td id=\"T_78800_row3_col3\" class=\"data row3 col3\" >10.300000</td>\n",
       "    </tr>\n",
       "    <tr>\n",
       "      <th id=\"T_78800_level0_row4\" class=\"row_heading level0 row4\" >25%</th>\n",
       "      <td id=\"T_78800_row4_col0\" class=\"data row4 col0\" >17741.250000</td>\n",
       "      <td id=\"T_78800_row4_col1\" class=\"data row4 col1\" >25.000000</td>\n",
       "      <td id=\"T_78800_row4_col2\" class=\"data row4 col2\" >77.245000</td>\n",
       "      <td id=\"T_78800_row4_col3\" class=\"data row4 col3\" >23.500000</td>\n",
       "    </tr>\n",
       "    <tr>\n",
       "      <th id=\"T_78800_level0_row5\" class=\"row_heading level0 row5\" >50%</th>\n",
       "      <td id=\"T_78800_row5_col0\" class=\"data row5 col0\" >36932.000000</td>\n",
       "      <td id=\"T_78800_row5_col1\" class=\"data row5 col1\" >45.000000</td>\n",
       "      <td id=\"T_78800_row5_col2\" class=\"data row5 col2\" >91.885000</td>\n",
       "      <td id=\"T_78800_row5_col3\" class=\"data row5 col3\" >28.100000</td>\n",
       "    </tr>\n",
       "    <tr>\n",
       "      <th id=\"T_78800_level0_row6\" class=\"row_heading level0 row6\" >75%</th>\n",
       "      <td id=\"T_78800_row6_col0\" class=\"data row6 col0\" >54682.000000</td>\n",
       "      <td id=\"T_78800_row6_col1\" class=\"data row6 col1\" >61.000000</td>\n",
       "      <td id=\"T_78800_row6_col2\" class=\"data row6 col2\" >114.090000</td>\n",
       "      <td id=\"T_78800_row6_col3\" class=\"data row6 col3\" >33.100000</td>\n",
       "    </tr>\n",
       "    <tr>\n",
       "      <th id=\"T_78800_level0_row7\" class=\"row_heading level0 row7\" >max</th>\n",
       "      <td id=\"T_78800_row7_col0\" class=\"data row7 col0\" >72940.000000</td>\n",
       "      <td id=\"T_78800_row7_col1\" class=\"data row7 col1\" >82.000000</td>\n",
       "      <td id=\"T_78800_row7_col2\" class=\"data row7 col2\" >271.740000</td>\n",
       "      <td id=\"T_78800_row7_col3\" class=\"data row7 col3\" >97.600000</td>\n",
       "    </tr>\n",
       "  </tbody>\n",
       "</table>\n"
      ],
      "text/plain": [
       "<pandas.io.formats.style.Styler at 0x7f00b85b6f50>"
      ]
     },
     "execution_count": 7,
     "metadata": {},
     "output_type": "execute_result"
    }
   ],
   "source": [
    "# summary statistics\n",
    "df.describe().style.background_gradient(cmap = \"plasma\")"
   ]
  },
  {
   "cell_type": "markdown",
   "id": "c6bd9e35",
   "metadata": {
    "papermill": {
     "duration": 0.010896,
     "end_time": "2022-08-17T10:00:39.133227",
     "exception": false,
     "start_time": "2022-08-17T10:00:39.122331",
     "status": "completed"
    },
    "tags": []
   },
   "source": [
    "**It seems like we have some outliers in avg_glucose_level and bmi. we'll check that later in our EDA section.**"
   ]
  },
  {
   "cell_type": "markdown",
   "id": "b7d53c86",
   "metadata": {
    "papermill": {
     "duration": 0.011284,
     "end_time": "2022-08-17T10:00:39.156301",
     "exception": false,
     "start_time": "2022-08-17T10:00:39.145017",
     "status": "completed"
    },
    "tags": []
   },
   "source": [
    "<h3 style=\"color:DarkOliveGreen;\"> EDA & Data Cleaning </h3>"
   ]
  },
  {
   "cell_type": "code",
   "execution_count": 8,
   "id": "9fa9b7be",
   "metadata": {
    "execution": {
     "iopub.execute_input": "2022-08-17T10:00:39.180711Z",
     "iopub.status.busy": "2022-08-17T10:00:39.180182Z",
     "iopub.status.idle": "2022-08-17T10:00:39.187418Z",
     "shell.execute_reply": "2022-08-17T10:00:39.186282Z"
    },
    "papermill": {
     "duration": 0.021991,
     "end_time": "2022-08-17T10:00:39.189803",
     "exception": false,
     "start_time": "2022-08-17T10:00:39.167812",
     "status": "completed"
    },
    "tags": []
   },
   "outputs": [],
   "source": [
    "# Drop ID - I think, ID won't useful in our analysis.\n",
    "df.drop('id', axis= 1, inplace= True)"
   ]
  },
  {
   "cell_type": "code",
   "execution_count": 9,
   "id": "fb5799ee",
   "metadata": {
    "execution": {
     "iopub.execute_input": "2022-08-17T10:00:39.214203Z",
     "iopub.status.busy": "2022-08-17T10:00:39.213817Z",
     "iopub.status.idle": "2022-08-17T10:00:39.223995Z",
     "shell.execute_reply": "2022-08-17T10:00:39.223093Z"
    },
    "papermill": {
     "duration": 0.025223,
     "end_time": "2022-08-17T10:00:39.226515",
     "exception": false,
     "start_time": "2022-08-17T10:00:39.201292",
     "status": "completed"
    },
    "tags": []
   },
   "outputs": [
    {
     "name": "stdout",
     "output_type": "stream",
     "text": [
      "Categorical Features are:  Index(['gender', 'hypertension', 'heart_disease', 'ever_married', 'work_type',\n",
      "       'Residence_type', 'smoking_status', 'stroke'],\n",
      "      dtype='object')\n",
      "Numerical Features are:  Index(['age', 'avg_glucose_level', 'bmi'], dtype='object')\n"
     ]
    }
   ],
   "source": [
    "# categorical and numeric features\n",
    "cat_features = df.select_dtypes(exclude=\"number\").columns\n",
    "num_cols = df.select_dtypes(include=\"number\").columns\n",
    "print('Categorical Features are: ', cat_features)\n",
    "print('Numerical Features are: ', num_cols)"
   ]
  },
  {
   "cell_type": "code",
   "execution_count": 10,
   "id": "84cb4129",
   "metadata": {
    "execution": {
     "iopub.execute_input": "2022-08-17T10:00:39.251902Z",
     "iopub.status.busy": "2022-08-17T10:00:39.251124Z",
     "iopub.status.idle": "2022-08-17T10:00:39.263729Z",
     "shell.execute_reply": "2022-08-17T10:00:39.262528Z"
    },
    "papermill": {
     "duration": 0.027792,
     "end_time": "2022-08-17T10:00:39.265994",
     "exception": false,
     "start_time": "2022-08-17T10:00:39.238202",
     "status": "completed"
    },
    "tags": []
   },
   "outputs": [
    {
     "data": {
      "text/plain": [
       "gender                 0\n",
       "age                    0\n",
       "hypertension           0\n",
       "heart_disease          0\n",
       "ever_married           0\n",
       "work_type              0\n",
       "Residence_type         0\n",
       "avg_glucose_level      0\n",
       "bmi                  201\n",
       "smoking_status         0\n",
       "stroke                 0\n",
       "dtype: int64"
      ]
     },
     "execution_count": 10,
     "metadata": {},
     "output_type": "execute_result"
    }
   ],
   "source": [
    "# checking for null values\n",
    "df.isnull().sum()"
   ]
  },
  {
   "cell_type": "markdown",
   "id": "937d63cc",
   "metadata": {
    "papermill": {
     "duration": 0.011159,
     "end_time": "2022-08-17T10:00:39.289068",
     "exception": false,
     "start_time": "2022-08-17T10:00:39.277909",
     "status": "completed"
    },
    "tags": []
   },
   "source": [
    "**Missing values found in bmi. we will impute missing values with the mode of the BMI in sklearn pipeline.**"
   ]
  },
  {
   "cell_type": "markdown",
   "id": "73644f8f",
   "metadata": {
    "papermill": {
     "duration": 0.011635,
     "end_time": "2022-08-17T10:00:39.311823",
     "exception": false,
     "start_time": "2022-08-17T10:00:39.300188",
     "status": "completed"
    },
    "tags": []
   },
   "source": [
    "### **Analysis of Stroke - Target Variable**"
   ]
  },
  {
   "cell_type": "code",
   "execution_count": 11,
   "id": "3299aba2",
   "metadata": {
    "execution": {
     "iopub.execute_input": "2022-08-17T10:00:39.337449Z",
     "iopub.status.busy": "2022-08-17T10:00:39.336681Z",
     "iopub.status.idle": "2022-08-17T10:00:39.534649Z",
     "shell.execute_reply": "2022-08-17T10:00:39.533315Z"
    },
    "papermill": {
     "duration": 0.214332,
     "end_time": "2022-08-17T10:00:39.538063",
     "exception": false,
     "start_time": "2022-08-17T10:00:39.323731",
     "status": "completed"
    },
    "tags": []
   },
   "outputs": [
    {
     "data": {
      "image/png": "[encoded data removed]",
      "text/plain": [
       "<Figure size 576x432 with 1 Axes>"
      ]
     },
     "metadata": {
      "needs_background": "light"
     },
     "output_type": "display_data"
    }
   ],
   "source": [
    "plt.figure(figsize=(8,6))\n",
    "sns.countplot(x = 'stroke', data = df)\n",
    "plt.show()"
   ]
  },
  {
   "cell_type": "markdown",
   "id": "9f33936c",
   "metadata": {
    "papermill": {
     "duration": 0.012948,
     "end_time": "2022-08-17T10:00:39.564177",
     "exception": false,
     "start_time": "2022-08-17T10:00:39.551229",
     "status": "completed"
    },
    "tags": []
   },
   "source": [
    "**As we can see that from the above plot, its a class imbalancing problem. The number of people who actually had a stroke are very less in our dataset. We'll use oversampling technique to deal with this.**"
   ]
  },
  {
   "cell_type": "markdown",
   "id": "50880cb4",
   "metadata": {
    "papermill": {
     "duration": 0.011349,
     "end_time": "2022-08-17T10:00:39.589661",
     "exception": false,
     "start_time": "2022-08-17T10:00:39.578312",
     "status": "completed"
    },
    "tags": []
   },
   "source": [
    "### **Analysis of Continuous Features**"
   ]
  },
  {
   "cell_type": "code",
   "execution_count": 12,
   "id": "6d635e28",
   "metadata": {
    "execution": {
     "iopub.execute_input": "2022-08-17T10:00:39.615177Z",
     "iopub.status.busy": "2022-08-17T10:00:39.614112Z",
     "iopub.status.idle": "2022-08-17T10:00:41.227957Z",
     "shell.execute_reply": "2022-08-17T10:00:41.226657Z"
    },
    "papermill": {
     "duration": 1.630575,
     "end_time": "2022-08-17T10:00:41.231751",
     "exception": false,
     "start_time": "2022-08-17T10:00:39.601176",
     "status": "completed"
    },
    "tags": []
   },
   "outputs": [
    {
     "data": {
      "image/png": "[encoded data removed]",
      "text/plain": [
       "<Figure size 1800x1080 with 9 Axes>"
      ]
     },
     "metadata": {
      "needs_background": "light"
     },
     "output_type": "display_data"
    }
   ],
   "source": [
    "fig,ax=plt.subplots(3,3,figsize=(25,15))\n",
    "for i,col in enumerate(num_cols):\n",
    "    plt.suptitle(\"Visualizing Continuous Features\",size=20)\n",
    "    sns.distplot(df[col], ax=ax[i,0], kde=True)\n",
    "    sns.boxplot(data=df, x=col, ax=ax[i,1])\n",
    "    sns.kdeplot(data = df, x = col, hue= 'stroke', shade= True, ax=ax[i,2], palette = 'ocean')\n",
    "    if i == 0:\n",
    "        ax[0,0].set_title('Distribution Plot of Numerical Features', loc='center', y=1.1, size=18, weight='bold',color='green')\n",
    "    elif i==1:\n",
    "        ax[0,1].set_title('Boxplot of Numerical Features', loc='center', y=1.1, size=18, weight='bold',color='green')\n",
    "    else:\n",
    "        ax[0,2].set_title('Distribution of Numerical features based on Stroke', loc='center', y=1.1, size=18, weight='bold',color='green')\n",
    "    "
   ]
  },
  {
   "cell_type": "markdown",
   "id": "e05ada43",
   "metadata": {
    "papermill": {
     "duration": 0.014537,
     "end_time": "2022-08-17T10:00:41.259444",
     "exception": false,
     "start_time": "2022-08-17T10:00:41.244907",
     "status": "completed"
    },
    "tags": []
   },
   "source": [
    "Insights:<br>\n",
    "* **We clearly have a lot of outliers in avg_glucose_level and BMI column.**\n",
    "* **Age Distribution based on Stroke shows that older people have a much higher chance of getting a stroke as compared to younger individuals.**"
   ]
  },
  {
   "cell_type": "markdown",
   "id": "7414880a",
   "metadata": {
    "papermill": {
     "duration": 0.013159,
     "end_time": "2022-08-17T10:00:41.285896",
     "exception": false,
     "start_time": "2022-08-17T10:00:41.272737",
     "status": "completed"
    },
    "tags": []
   },
   "source": [
    "### **Analysis of Categorical Features**"
   ]
  },
  {
   "cell_type": "code",
   "execution_count": 13,
   "id": "13c24e9e",
   "metadata": {
    "execution": {
     "iopub.execute_input": "2022-08-17T10:00:41.315334Z",
     "iopub.status.busy": "2022-08-17T10:00:41.314225Z",
     "iopub.status.idle": "2022-08-17T10:00:41.331535Z",
     "shell.execute_reply": "2022-08-17T10:00:41.329632Z"
    },
    "papermill": {
     "duration": 0.034802,
     "end_time": "2022-08-17T10:00:41.334118",
     "exception": false,
     "start_time": "2022-08-17T10:00:41.299316",
     "status": "completed"
    },
    "tags": []
   },
   "outputs": [
    {
     "name": "stdout",
     "output_type": "stream",
     "text": [
      "============gender============\n",
      " Female    2994\n",
      "Male      2115\n",
      "Other        1\n",
      "Name: gender, dtype: int64\n",
      "\n",
      "============hypertension============\n",
      " 0    4612\n",
      "1     498\n",
      "Name: hypertension, dtype: int64\n",
      "\n",
      "============heart_disease============\n",
      " 0    4834\n",
      "1     276\n",
      "Name: heart_disease, dtype: int64\n",
      "\n",
      "============ever_married============\n",
      " Yes    3353\n",
      "No     1757\n",
      "Name: ever_married, dtype: int64\n",
      "\n",
      "============work_type============\n",
      " Private          2925\n",
      "Self-employed     819\n",
      "children          687\n",
      "Govt_job          657\n",
      "Never_worked       22\n",
      "Name: work_type, dtype: int64\n",
      "\n",
      "============Residence_type============\n",
      " Urban    2596\n",
      "Rural    2514\n",
      "Name: Residence_type, dtype: int64\n",
      "\n",
      "============smoking_status============\n",
      " never smoked       1892\n",
      "Unknown            1544\n",
      "formerly smoked     885\n",
      "smokes              789\n",
      "Name: smoking_status, dtype: int64\n",
      "\n"
     ]
    }
   ],
   "source": [
    "# Checking value in each categorical feature\n",
    "cat_cols = cat_features[:-1]\n",
    "for col in cat_cols:\n",
    "    print(f'============{col}============\\n {df[col].value_counts()}\\n')"
   ]
  },
  {
   "cell_type": "markdown",
   "id": "9fbe3a63",
   "metadata": {
    "papermill": {
     "duration": 0.013248,
     "end_time": "2022-08-17T10:00:41.361021",
     "exception": false,
     "start_time": "2022-08-17T10:00:41.347773",
     "status": "completed"
    },
    "tags": []
   },
   "source": [
    "**Only one instance of other category in Gender column. Let's drop it.**"
   ]
  },
  {
   "cell_type": "code",
   "execution_count": 14,
   "id": "a99dcc1f",
   "metadata": {
    "execution": {
     "iopub.execute_input": "2022-08-17T10:00:41.390392Z",
     "iopub.status.busy": "2022-08-17T10:00:41.389858Z",
     "iopub.status.idle": "2022-08-17T10:00:41.398609Z",
     "shell.execute_reply": "2022-08-17T10:00:41.397663Z"
    },
    "papermill": {
     "duration": 0.026201,
     "end_time": "2022-08-17T10:00:41.400728",
     "exception": false,
     "start_time": "2022-08-17T10:00:41.374527",
     "status": "completed"
    },
    "tags": []
   },
   "outputs": [],
   "source": [
    "df.drop(df.loc[df['gender'] == 'Other'].index, inplace= True)"
   ]
  },
  {
   "cell_type": "code",
   "execution_count": 15,
   "id": "b9e09802",
   "metadata": {
    "execution": {
     "iopub.execute_input": "2022-08-17T10:00:41.429880Z",
     "iopub.status.busy": "2022-08-17T10:00:41.429034Z",
     "iopub.status.idle": "2022-08-17T10:00:43.265618Z",
     "shell.execute_reply": "2022-08-17T10:00:43.264727Z"
    },
    "papermill": {
     "duration": 1.853624,
     "end_time": "2022-08-17T10:00:43.267847",
     "exception": false,
     "start_time": "2022-08-17T10:00:41.414223",
     "status": "completed"
    },
    "tags": []
   },
   "outputs": [
    {
     "data": {
      "image/png": "[encoded data removed]",
      "text/plain": [
       "<Figure size 1296x2520 with 14 Axes>"
      ]
     },
     "metadata": {
      "needs_background": "light"
     },
     "output_type": "display_data"
    }
   ],
   "source": [
    "fig,ax = plt.subplots(7,2,figsize=(18,35))\n",
    "for i, col in enumerate(cat_cols):\n",
    "    sns.countplot(data = df, x = col, ax=ax[i,0])\n",
    "    sns.countplot(data = df, x = col,hue='stroke', ax=ax[i,1])\n",
    "    if i == 0:\n",
    "        ax[0,0].set_title('Count plot for Categorical Features', loc='center', y=1.1, size=18, weight='bold',color='green')\n",
    "    else:\n",
    "        ax[0,1].set_title('Count plot for Categorical Features Based on Stroke', loc='center', y=1.1, size=18, weight='bold',color='green')"
   ]
  },
  {
   "cell_type": "markdown",
   "id": "a934f88f",
   "metadata": {
    "papermill": {
     "duration": 0.014483,
     "end_time": "2022-08-17T10:00:43.297270",
     "exception": false,
     "start_time": "2022-08-17T10:00:43.282787",
     "status": "completed"
    },
    "tags": []
   },
   "source": [
    "Insights:<br>\n",
    "* **Married people have more strokes as compared to unmarried.**\n",
    "* **Never smoked people have more strokes as compared to formerly smoked or smokes.**\n",
    "* **Urban people have more strokes as compared to people living in rural areas.**"
   ]
  },
  {
   "cell_type": "markdown",
   "id": "3b4d9686",
   "metadata": {
    "papermill": {
     "duration": 0.014741,
     "end_time": "2022-08-17T10:00:43.326821",
     "exception": false,
     "start_time": "2022-08-17T10:00:43.312080",
     "status": "completed"
    },
    "tags": []
   },
   "source": [
    "<h3 style=\"color:DarkOliveGreen;\"> Data Preprocessing</h3>"
   ]
  },
  {
   "cell_type": "code",
   "execution_count": 16,
   "id": "4eaf1fad",
   "metadata": {
    "execution": {
     "iopub.execute_input": "2022-08-17T10:00:43.359081Z",
     "iopub.status.busy": "2022-08-17T10:00:43.357974Z",
     "iopub.status.idle": "2022-08-17T10:00:43.365937Z",
     "shell.execute_reply": "2022-08-17T10:00:43.364802Z"
    },
    "papermill": {
     "duration": 0.026855,
     "end_time": "2022-08-17T10:00:43.368642",
     "exception": false,
     "start_time": "2022-08-17T10:00:43.341787",
     "status": "completed"
    },
    "tags": []
   },
   "outputs": [],
   "source": [
    "# convert target variabe stroke into integer format \n",
    "df['stroke'] = df['stroke'].map({'0': 0, '1': 1})"
   ]
  },
  {
   "cell_type": "code",
   "execution_count": 17,
   "id": "6c291911",
   "metadata": {
    "execution": {
     "iopub.execute_input": "2022-08-17T10:00:43.400379Z",
     "iopub.status.busy": "2022-08-17T10:00:43.399930Z",
     "iopub.status.idle": "2022-08-17T10:00:43.407187Z",
     "shell.execute_reply": "2022-08-17T10:00:43.405972Z"
    },
    "papermill": {
     "duration": 0.026112,
     "end_time": "2022-08-17T10:00:43.409690",
     "exception": false,
     "start_time": "2022-08-17T10:00:43.383578",
     "status": "completed"
    },
    "tags": []
   },
   "outputs": [],
   "source": [
    "# splitting the data into X and y\n",
    "X = df.drop('stroke', axis=1)\n",
    "y = df['stroke']"
   ]
  },
  {
   "cell_type": "code",
   "execution_count": 18,
   "id": "b5f72934",
   "metadata": {
    "execution": {
     "iopub.execute_input": "2022-08-17T10:00:43.441387Z",
     "iopub.status.busy": "2022-08-17T10:00:43.440969Z",
     "iopub.status.idle": "2022-08-17T10:00:43.446323Z",
     "shell.execute_reply": "2022-08-17T10:00:43.445194Z"
    },
    "papermill": {
     "duration": 0.023809,
     "end_time": "2022-08-17T10:00:43.448586",
     "exception": false,
     "start_time": "2022-08-17T10:00:43.424777",
     "status": "completed"
    },
    "tags": []
   },
   "outputs": [],
   "source": [
    "# For the categorical features, we will encode them with One-Hot encoding\n",
    "categorical_pipeline = Pipeline(\n",
    "    steps=[\n",
    "        (\"onehot-encoder\", OneHotEncoder(handle_unknown=\"ignore\", sparse=False,drop='first')),\n",
    "    ]\n",
    ")"
   ]
  },
  {
   "cell_type": "code",
   "execution_count": 19,
   "id": "68e49c78",
   "metadata": {
    "execution": {
     "iopub.execute_input": "2022-08-17T10:00:43.480081Z",
     "iopub.status.busy": "2022-08-17T10:00:43.479673Z",
     "iopub.status.idle": "2022-08-17T10:00:43.484741Z",
     "shell.execute_reply": "2022-08-17T10:00:43.483847Z"
    },
    "papermill": {
     "duration": 0.023406,
     "end_time": "2022-08-17T10:00:43.486705",
     "exception": false,
     "start_time": "2022-08-17T10:00:43.463299",
     "status": "completed"
    },
    "tags": []
   },
   "outputs": [],
   "source": [
    "# For the numeric features, specifically 'bmi' we will impute the missing values with the mode of the column\n",
    "# and StandardScaler so that the features have 0 mean and a variance of 1:\n",
    "numeric_pipeline = Pipeline(\n",
    "    steps=[\n",
    "           (\"imputer\", SimpleImputer(missing_values=np.nan, strategy='most_frequent')),\n",
    "           (\"scaler\", StandardScaler())\n",
    "         ]\n",
    ")"
   ]
  },
  {
   "cell_type": "code",
   "execution_count": 20,
   "id": "e54b44e3",
   "metadata": {
    "execution": {
     "iopub.execute_input": "2022-08-17T10:00:43.518009Z",
     "iopub.status.busy": "2022-08-17T10:00:43.517237Z",
     "iopub.status.idle": "2022-08-17T10:00:43.522907Z",
     "shell.execute_reply": "2022-08-17T10:00:43.521803Z"
    },
    "papermill": {
     "duration": 0.023962,
     "end_time": "2022-08-17T10:00:43.525284",
     "exception": false,
     "start_time": "2022-08-17T10:00:43.501322",
     "status": "completed"
    },
    "tags": []
   },
   "outputs": [],
   "source": [
    "# Next, we will input these along with their corresponding pipelines into a ColumnTransFormer instance\n",
    "full_processor = ColumnTransformer(\n",
    "    transformers=[\n",
    "        (\"numeric\", numeric_pipeline, num_cols),\n",
    "        (\"categorical\", categorical_pipeline, cat_cols),\n",
    "    ]\n",
    ")"
   ]
  },
  {
   "cell_type": "code",
   "execution_count": 21,
   "id": "309d6cd4",
   "metadata": {
    "execution": {
     "iopub.execute_input": "2022-08-17T10:00:43.557053Z",
     "iopub.status.busy": "2022-08-17T10:00:43.556613Z",
     "iopub.status.idle": "2022-08-17T10:00:43.591690Z",
     "shell.execute_reply": "2022-08-17T10:00:43.590027Z"
    },
    "papermill": {
     "duration": 0.054046,
     "end_time": "2022-08-17T10:00:43.594307",
     "exception": false,
     "start_time": "2022-08-17T10:00:43.540261",
     "status": "completed"
    },
    "tags": []
   },
   "outputs": [
    {
     "name": "stdout",
     "output_type": "stream",
     "text": [
      "X Shape:  (5109, 15)\n",
      "y shape:  (5109, 1)\n"
     ]
    }
   ],
   "source": [
    "# Apply preprocessing\n",
    "X_processed = full_processor.fit_transform(X)\n",
    "y_processed = y.values.reshape(-1,1)\n",
    "print('X Shape: ', X_processed.shape)\n",
    "print('y shape: ', y_processed.shape)"
   ]
  },
  {
   "cell_type": "markdown",
   "id": "20697e2d",
   "metadata": {
    "papermill": {
     "duration": 0.01466,
     "end_time": "2022-08-17T10:00:43.624435",
     "exception": false,
     "start_time": "2022-08-17T10:00:43.609775",
     "status": "completed"
    },
    "tags": []
   },
   "source": [
    "### **RandomOversampling**"
   ]
  },
  {
   "cell_type": "code",
   "execution_count": 22,
   "id": "d2742ab5",
   "metadata": {
    "execution": {
     "iopub.execute_input": "2022-08-17T10:00:43.656130Z",
     "iopub.status.busy": "2022-08-17T10:00:43.655720Z",
     "iopub.status.idle": "2022-08-17T10:00:43.667841Z",
     "shell.execute_reply": "2022-08-17T10:00:43.666849Z"
    },
    "papermill": {
     "duration": 0.030874,
     "end_time": "2022-08-17T10:00:43.670207",
     "exception": false,
     "start_time": "2022-08-17T10:00:43.639333",
     "status": "completed"
    },
    "tags": []
   },
   "outputs": [
    {
     "name": "stdout",
     "output_type": "stream",
     "text": [
      "Original Y Count:  (array([0, 1]), array([4860,  249]))\n",
      "OverSample Y Count:  (array([0, 1]), array([4860, 4860]))\n"
     ]
    }
   ],
   "source": [
    "# Oversampling of Minority Class\n",
    "ros = RandomOverSampler(sampling_strategy='minority')\n",
    "\n",
    "X_sample, y_sample = ros.fit_resample(X_processed, y_processed)\n",
    "print('Original Y Count: ', np.unique(y_processed, return_counts=True))\n",
    "print('OverSample Y Count: ', np.unique(y_sample, return_counts=True))"
   ]
  },
  {
   "cell_type": "markdown",
   "id": "d234cab9",
   "metadata": {
    "papermill": {
     "duration": 0.015037,
     "end_time": "2022-08-17T10:00:43.700161",
     "exception": false,
     "start_time": "2022-08-17T10:00:43.685124",
     "status": "completed"
    },
    "tags": []
   },
   "source": [
    "<h3 style=\"color:DarkOliveGreen;\"> Model Building</h3>"
   ]
  },
  {
   "cell_type": "code",
   "execution_count": 23,
   "id": "51286a22",
   "metadata": {
    "execution": {
     "iopub.execute_input": "2022-08-17T10:00:43.731815Z",
     "iopub.status.busy": "2022-08-17T10:00:43.731364Z",
     "iopub.status.idle": "2022-08-17T10:00:43.742831Z",
     "shell.execute_reply": "2022-08-17T10:00:43.741567Z"
    },
    "papermill": {
     "duration": 0.030177,
     "end_time": "2022-08-17T10:00:43.745368",
     "exception": false,
     "start_time": "2022-08-17T10:00:43.715191",
     "status": "completed"
    },
    "tags": []
   },
   "outputs": [],
   "source": [
    "# train test split\n",
    "X_train, X_test, y_train, y_test = train_test_split(X_sample, y_sample, test_size = 0.3, stratify = y_sample, random_state = 2022)"
   ]
  },
  {
   "cell_type": "code",
   "execution_count": 24,
   "id": "b6ba757e",
   "metadata": {
    "execution": {
     "iopub.execute_input": "2022-08-17T10:00:43.777113Z",
     "iopub.status.busy": "2022-08-17T10:00:43.776703Z",
     "iopub.status.idle": "2022-08-17T10:00:43.786579Z",
     "shell.execute_reply": "2022-08-17T10:00:43.785677Z"
    },
    "papermill": {
     "duration": 0.028245,
     "end_time": "2022-08-17T10:00:43.788658",
     "exception": false,
     "start_time": "2022-08-17T10:00:43.760413",
     "status": "completed"
    },
    "tags": []
   },
   "outputs": [],
   "source": [
    "# Models\n",
    "models = [ KNeighborsClassifier(n_neighbors = 3),\n",
    "           SVC(probability=True),\n",
    "           DecisionTreeClassifier(random_state=2022),\n",
    "           RandomForestClassifier(random_state=2022),\n",
    "           XGBClassifier(random_state=2022),\n",
    "           CatBoostClassifier(random_state=2022,verbose=0)]\n",
    "\n",
    "model_names=['KNN', 'SVM', 'Decision Tree','Random Forest','XGBoost','CatBoost']"
   ]
  },
  {
   "cell_type": "code",
   "execution_count": 25,
   "id": "6693fba8",
   "metadata": {
    "execution": {
     "iopub.execute_input": "2022-08-17T10:00:43.820698Z",
     "iopub.status.busy": "2022-08-17T10:00:43.820229Z",
     "iopub.status.idle": "2022-08-17T10:00:43.831075Z",
     "shell.execute_reply": "2022-08-17T10:00:43.829907Z"
    },
    "papermill": {
     "duration": 0.029592,
     "end_time": "2022-08-17T10:00:43.833338",
     "exception": false,
     "start_time": "2022-08-17T10:00:43.803746",
     "status": "completed"
    },
    "tags": []
   },
   "outputs": [],
   "source": [
    "def build_models(models, model_names):\n",
    "    # lets create an empty lists to append the results\n",
    "    roc_auc_scores  = []\n",
    "    accuracy_scores = []\n",
    "    results = {}\n",
    "    \n",
    "    fig, axes = plt.subplots(nrows=2, ncols=3, figsize=(15,10))\n",
    "    # use enumerate() and zip() function to iterate the lists\n",
    "    for idx, (ml_model_names, ml_models, ax) in enumerate(zip(model_names, models, axes.flatten())):\n",
    "        clf = models[idx]\n",
    "        clf.fit(X_train,y_train)\n",
    "        y_pred = clf.predict(X_test)\n",
    "        y_pred_proba = clf.predict_proba(X_test)[:, 1]\n",
    "        roc_auc = roc_auc_score(y_test, y_pred_proba)\n",
    "        accuracy = accuracy_score(y_test, y_pred)\n",
    "        \n",
    "        plot_confusion_matrix(clf, \n",
    "                              X_test, \n",
    "                              y_test, \n",
    "                              ax=ax, \n",
    "                              cmap='Blues')\n",
    "        ax.title.set_text(ml_model_names)\n",
    "        \n",
    "        print(\"Model: {}\".format(ml_model_names))\n",
    "        print(\"Accuracy: {}\".format(accuracy))\n",
    "        print(\"Roc Auc Score: {}\".format(roc_auc))\n",
    "        print('\\n')\n",
    "        \n",
    "        \n",
    "        roc_auc_scores.append(roc_auc)\n",
    "        accuracy_scores.append(accuracy)\n",
    "    \n",
    "    results = {'Model':model_names,\n",
    "           'ROC AUC Score':roc_auc_scores,\n",
    "           'Accuracy Score':accuracy_scores}\n",
    "    plt.tight_layout()  \n",
    "    plt.show()\n",
    "    # Put the roc_auc_scores and accuracy scores in a data frame.\n",
    "    models_scores_df = pd.DataFrame(results)\n",
    "    return models_scores_df"
   ]
  },
  {
   "cell_type": "code",
   "execution_count": 26,
   "id": "90fe6f03",
   "metadata": {
    "execution": {
     "iopub.execute_input": "2022-08-17T10:00:43.864688Z",
     "iopub.status.busy": "2022-08-17T10:00:43.864240Z",
     "iopub.status.idle": "2022-08-17T10:01:00.221028Z",
     "shell.execute_reply": "2022-08-17T10:01:00.219772Z"
    },
    "papermill": {
     "duration": 16.37562,
     "end_time": "2022-08-17T10:01:00.223946",
     "exception": false,
     "start_time": "2022-08-17T10:00:43.848326",
     "status": "completed"
    },
    "tags": []
   },
   "outputs": [
    {
     "name": "stdout",
     "output_type": "stream",
     "text": [
      "Model: KNN\n",
      "Accuracy: 0.9447873799725651\n",
      "Roc Auc Score: 0.9701646090534979\n",
      "\n",
      "\n",
      "Model: SVM\n",
      "Accuracy: 0.8446502057613169\n",
      "Roc Auc Score: 0.9077451683253646\n",
      "\n",
      "\n",
      "Model: Decision Tree\n",
      "Accuracy: 0.970164609053498\n",
      "Roc Auc Score: 0.9701646090534979\n",
      "\n",
      "\n",
      "Model: Random Forest\n",
      "Accuracy: 0.9921124828532236\n",
      "Roc Auc Score: 1.0\n",
      "\n",
      "\n",
      "Model: XGBoost\n",
      "Accuracy: 0.9729080932784636\n",
      "Roc Auc Score: 0.9974550326376774\n",
      "\n",
      "\n",
      "Model: CatBoost\n",
      "Accuracy: 0.960562414266118\n",
      "Roc Auc Score: 0.9958974749784077\n",
      "\n",
      "\n"
     ]
    },
    {
     "data": {
      "image/png": "[encoded data removed]",
      "text/plain": [
       "<Figure size 1080x720 with 12 Axes>"
      ]
     },
     "metadata": {
      "needs_background": "light"
     },
     "output_type": "display_data"
    }
   ],
   "source": [
    "models_scores_df = build_models(models, model_names)"
   ]
  },
  {
   "cell_type": "markdown",
   "id": "b4c4f3b7",
   "metadata": {
    "papermill": {
     "duration": 0.015995,
     "end_time": "2022-08-17T10:01:00.256365",
     "exception": false,
     "start_time": "2022-08-17T10:01:00.240370",
     "status": "completed"
    },
    "tags": []
   },
   "source": [
    "**0 False Negatives. It means we are able to predict all patients who had a stroke.**"
   ]
  },
  {
   "cell_type": "code",
   "execution_count": 27,
   "id": "4e52ac8a",
   "metadata": {
    "execution": {
     "iopub.execute_input": "2022-08-17T10:01:00.290121Z",
     "iopub.status.busy": "2022-08-17T10:01:00.289723Z",
     "iopub.status.idle": "2022-08-17T10:01:00.301414Z",
     "shell.execute_reply": "2022-08-17T10:01:00.300265Z"
    },
    "papermill": {
     "duration": 0.031896,
     "end_time": "2022-08-17T10:01:00.304287",
     "exception": false,
     "start_time": "2022-08-17T10:01:00.272391",
     "status": "completed"
    },
    "tags": []
   },
   "outputs": [
    {
     "data": {
      "text/html": [
       "<div>\n",
       "<style scoped>\n",
       "    .dataframe tbody tr th:only-of-type {\n",
       "        vertical-align: middle;\n",
       "    }\n",
       "\n",
       "    .dataframe tbody tr th {\n",
       "        vertical-align: top;\n",
       "    }\n",
       "\n",
       "    .dataframe thead th {\n",
       "        text-align: right;\n",
       "    }\n",
       "</style>\n",
       "<table border=\"1\" class=\"dataframe\">\n",
       "  <thead>\n",
       "    <tr style=\"text-align: right;\">\n",
       "      <th></th>\n",
       "      <th>Model</th>\n",
       "      <th>ROC AUC Score</th>\n",
       "      <th>Accuracy Score</th>\n",
       "    </tr>\n",
       "  </thead>\n",
       "  <tbody>\n",
       "    <tr>\n",
       "      <th>0</th>\n",
       "      <td>KNN</td>\n",
       "      <td>0.970165</td>\n",
       "      <td>0.944787</td>\n",
       "    </tr>\n",
       "    <tr>\n",
       "      <th>1</th>\n",
       "      <td>SVM</td>\n",
       "      <td>0.907745</td>\n",
       "      <td>0.844650</td>\n",
       "    </tr>\n",
       "    <tr>\n",
       "      <th>2</th>\n",
       "      <td>Decision Tree</td>\n",
       "      <td>0.970165</td>\n",
       "      <td>0.970165</td>\n",
       "    </tr>\n",
       "    <tr>\n",
       "      <th>3</th>\n",
       "      <td>Random Forest</td>\n",
       "      <td>1.000000</td>\n",
       "      <td>0.992112</td>\n",
       "    </tr>\n",
       "    <tr>\n",
       "      <th>4</th>\n",
       "      <td>XGBoost</td>\n",
       "      <td>0.997455</td>\n",
       "      <td>0.972908</td>\n",
       "    </tr>\n",
       "    <tr>\n",
       "      <th>5</th>\n",
       "      <td>CatBoost</td>\n",
       "      <td>0.995897</td>\n",
       "      <td>0.960562</td>\n",
       "    </tr>\n",
       "  </tbody>\n",
       "</table>\n",
       "</div>"
      ],
      "text/plain": [
       "           Model  ROC AUC Score  Accuracy Score\n",
       "0            KNN       0.970165        0.944787\n",
       "1            SVM       0.907745        0.844650\n",
       "2  Decision Tree       0.970165        0.970165\n",
       "3  Random Forest       1.000000        0.992112\n",
       "4        XGBoost       0.997455        0.972908\n",
       "5       CatBoost       0.995897        0.960562"
      ]
     },
     "execution_count": 27,
     "metadata": {},
     "output_type": "execute_result"
    }
   ],
   "source": [
    "models_scores_df"
   ]
  },
  {
   "cell_type": "markdown",
   "id": "de0ff3dc",
   "metadata": {
    "papermill": {
     "duration": 0.015632,
     "end_time": "2022-08-17T10:01:00.335940",
     "exception": false,
     "start_time": "2022-08-17T10:01:00.320308",
     "status": "completed"
    },
    "tags": []
   },
   "source": [
    "**Based on the above results, we can conclude that the Random Forest is best suited for this classification, closely followed by Decision Tree, XGBoost and CatBoost.**"
   ]
  }
 ],
 "metadata": {
  "kernelspec": {
   "display_name": "Python 3",
   "language": "python",
   "name": "python3"
  },
  "language_info": {
   "codemirror_mode": {
    "name": "ipython",
    "version": 3
   },
   "file_extension": ".py",
   "mimetype": "text/x-python",
   "name": "python",
   "nbconvert_exporter": "python",
   "pygments_lexer": "ipython3",
   "version": "3.7.12"
  },
  "papermill": {
   "default_parameters": {},
   "duration": 33.69429,
   "end_time": "2022-08-17T10:01:01.173945",
   "environment_variables": {},
   "exception": null,
   "input_path": "__notebook__.ipynb",
   "output_path": "__notebook__.ipynb",
   "parameters": {},
   "start_time": "2022-08-17T10:00:27.479655",
   "version": "2.3.4"
  }
 },
 "nbformat": 4,
 "nbformat_minor": 5
}
